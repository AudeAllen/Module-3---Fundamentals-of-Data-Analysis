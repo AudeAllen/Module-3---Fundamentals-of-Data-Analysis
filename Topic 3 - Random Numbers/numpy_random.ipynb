{
 "cells": [
  {
   "cell_type": "markdown",
   "metadata": {},
   "source": [
    "# https://docs.python.org/3/library/random.html\n",
    "\n",
    "Generates pseudo random numbers"
   ]
  },
  {
   "cell_type": "code",
   "execution_count": 13,
   "metadata": {},
   "outputs": [
    {
     "data": {
      "text/plain": [
       "2351827"
      ]
     },
     "execution_count": 13,
     "metadata": {},
     "output_type": "execute_result"
    }
   ],
   "source": [
    "# The random module from the python library\n",
    "\n",
    "import random\n",
    "\n",
    "random.randint(10000,5456464)\n"
   ]
  },
  {
   "cell_type": "markdown",
   "metadata": {},
   "source": []
  },
  {
   "cell_type": "code",
   "execution_count": 14,
   "metadata": {},
   "outputs": [
    {
     "name": "stdout",
     "output_type": "stream",
     "text": [
      "[8, 1, 2, 7, 10, 7, 7, 9, 10, 9, 2, 9, 1, 5, 9, 10, 2, 9, 7, 4, 3, 4, 2, 7, 4, 4, 4, 1, 3, 3, 7, 3, 10, 1, 1, 3, 5, 6, 2, 8, 6, 3, 2, 7, 10, 7, 3, 8, 9, 3, 3, 5, 5, 4, 2, 2, 2, 8, 7, 8, 5, 6, 2, 10, 10, 1, 9, 7, 9, 2, 1, 7, 1, 10, 6, 4, 3, 1, 8, 1, 7, 1, 2, 4, 10, 6, 6, 1, 3, 8, 8, 7, 2, 1, 4, 10, 4, 2, 3, 5]\n"
     ]
    }
   ],
   "source": [
    "# Generate a list of 100 random integers between 1 and 100\n",
    "\n",
    "L=[random.randint(1,10) for i in range(100)]\n",
    "\n",
    "print (L)"
   ]
  },
  {
   "cell_type": "code",
   "execution_count": 15,
   "metadata": {},
   "outputs": [
    {
     "data": {
      "text/plain": [
       "[8, 1, 2, 7, 10, 7, 7, 9, 10, 9]"
      ]
     },
     "execution_count": 15,
     "metadata": {},
     "output_type": "execute_result"
    }
   ],
   "source": [
    "# Show first 10\n",
    "\n",
    "L[:10]"
   ]
  },
  {
   "cell_type": "code",
   "execution_count": 16,
   "metadata": {},
   "outputs": [
    {
     "data": {
      "text/plain": [
       "['Renault',\n",
       " 'Renault',\n",
       " 'Renault',\n",
       " 'peugeot',\n",
       " 'Toyota',\n",
       " 'Toyota',\n",
       " 'peugeot',\n",
       " 'peugeot',\n",
       " 'Toyota',\n",
       " 'Toyota']"
      ]
     },
     "execution_count": 16,
     "metadata": {},
     "output_type": "execute_result"
    }
   ],
   "source": [
    "# List of makes  (with replacement)\n",
    "\n",
    "makes = ['Toyota', 'Skoda', 'peugeot', 'Renault']\n",
    "\n",
    " # Select one at random\n",
    "\n",
    "random.choice(makes)\n",
    "\n",
    "\n",
    "# Get more than one random choice\n",
    "\n",
    "random.choices(makes, k=10)\n"
   ]
  },
  {
   "cell_type": "code",
   "execution_count": 17,
   "metadata": {},
   "outputs": [
    {
     "data": {
      "text/plain": [
       "56.447066659274014"
      ]
     },
     "execution_count": 17,
     "metadata": {},
     "output_type": "execute_result"
    }
   ],
   "source": [
    "# Number between 0 and 1\n",
    "\n",
    "random.random()\n",
    "\n",
    "# Pick a random floating point number between 0 and 100\n",
    "\n",
    "random.uniform(0.0, 100.0)"
   ]
  }
 ],
 "metadata": {
  "kernelspec": {
   "display_name": "base",
   "language": "python",
   "name": "python3"
  },
  "language_info": {
   "codemirror_mode": {
    "name": "ipython",
    "version": 3
   },
   "file_extension": ".py",
   "mimetype": "text/x-python",
   "name": "python",
   "nbconvert_exporter": "python",
   "pygments_lexer": "ipython3",
   "version": "3.11.4"
  }
 },
 "nbformat": 4,
 "nbformat_minor": 2
}
