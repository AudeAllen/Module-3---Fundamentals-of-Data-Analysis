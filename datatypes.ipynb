{
 "cells": [
  {
   "cell_type": "markdown",
   "metadata": {},
   "source": [
    "# Data Types in Data Analytics\n",
    "\n",
    "***"
   ]
  },
  {
   "cell_type": "markdown",
   "metadata": {},
   "source": [
    "## Floor Division in Python\n",
    "\n",
    "***\n",
    "\n",
    "Adapted from The (Official) Python Tutorial:\n",
    "\n",
    "https://docs.python.org/3/tutorial/introduction.html#numbers"
   ]
  },
  {
   "cell_type": "code",
   "execution_count": null,
   "metadata": {},
   "outputs": [
    {
     "data": {
      "text/plain": [
       "5.666666666666667"
      ]
     },
     "metadata": {},
     "output_type": "display_data"
    }
   ],
   "source": [
    "# Classic division returns a float.\n",
    "17 / 3"
   ]
  },
  {
   "cell_type": "code",
   "execution_count": null,
   "metadata": {},
   "outputs": [
    {
     "data": {
      "text/plain": [
       "5"
      ]
     },
     "metadata": {},
     "output_type": "display_data"
    }
   ],
   "source": [
    "# Floor division discards the fractional part.\n",
    "17 // 3"
   ]
  },
  {
   "cell_type": "code",
   "execution_count": null,
   "metadata": {},
   "outputs": [
    {
     "data": {
      "text/plain": [
       "2"
      ]
     },
     "metadata": {},
     "output_type": "display_data"
    }
   ],
   "source": [
    "# The % operator returns the remainder of the division.\n",
    "17 % 3"
   ]
  },
  {
   "cell_type": "code",
   "execution_count": null,
   "metadata": {},
   "outputs": [
    {
     "data": {
      "text/plain": [
       "17"
      ]
     },
     "metadata": {},
     "output_type": "display_data"
    }
   ],
   "source": [
    "# Floored quotient * divisor + remainder.\n",
    "5 * 3 + 2"
   ]
  },
  {
   "cell_type": "code",
   "execution_count": null,
   "metadata": {},
   "outputs": [
    {
     "data": {
      "text/plain": [
       "6.0"
      ]
     },
     "metadata": {},
     "output_type": "display_data"
    }
   ],
   "source": [
    "# Even when we divide (using /) integers, we get a float.\n",
    "18 / 3"
   ]
  },
  {
   "cell_type": "code",
   "execution_count": null,
   "metadata": {},
   "outputs": [
    {
     "data": {
      "text/plain": [
       "int"
      ]
     },
     "metadata": {},
     "output_type": "display_data"
    }
   ],
   "source": [
    "# The type of 18 (written exactly like that) is int.\n",
    "type(18)"
   ]
  },
  {
   "cell_type": "code",
   "execution_count": null,
   "metadata": {},
   "outputs": [
    {
     "data": {
      "text/plain": [
       "int"
      ]
     },
     "metadata": {},
     "output_type": "display_data"
    }
   ],
   "source": [
    "# The type of 3 (written exactly like that) is int.\n",
    "type(3)"
   ]
  },
  {
   "cell_type": "code",
   "execution_count": null,
   "metadata": {},
   "outputs": [
    {
     "data": {
      "text/plain": [
       "int"
      ]
     },
     "metadata": {},
     "output_type": "display_data"
    }
   ],
   "source": [
    "# The type of 18 plus 3 is int.\n",
    "type(18 + 3)"
   ]
  },
  {
   "cell_type": "code",
   "execution_count": null,
   "metadata": {},
   "outputs": [
    {
     "data": {
      "text/plain": [
       "int"
      ]
     },
     "metadata": {},
     "output_type": "display_data"
    }
   ],
   "source": [
    "# The type of 18 minus 3 is int.\n",
    "type(18 - 3)"
   ]
  },
  {
   "cell_type": "code",
   "execution_count": null,
   "metadata": {},
   "outputs": [
    {
     "data": {
      "text/plain": [
       "int"
      ]
     },
     "metadata": {},
     "output_type": "display_data"
    }
   ],
   "source": [
    "# The type of 18 multiplication 3 is int.\n",
    "type(18 * 3)"
   ]
  },
  {
   "cell_type": "code",
   "execution_count": null,
   "metadata": {},
   "outputs": [
    {
     "data": {
      "text/plain": [
       "int"
      ]
     },
     "metadata": {},
     "output_type": "display_data"
    }
   ],
   "source": [
    "# The type of 18 to the power 3 is int.\n",
    "type(18**3)"
   ]
  },
  {
   "cell_type": "code",
   "execution_count": null,
   "metadata": {},
   "outputs": [
    {
     "data": {
      "text/plain": [
       "float"
      ]
     },
     "metadata": {},
     "output_type": "display_data"
    }
   ],
   "source": [
    "# The type of 18 divided by 3 using a single forward slash is float.\n",
    "type(18 / 3)"
   ]
  },
  {
   "cell_type": "code",
   "execution_count": null,
   "metadata": {},
   "outputs": [
    {
     "data": {
      "text/plain": [
       "int"
      ]
     },
     "metadata": {},
     "output_type": "display_data"
    }
   ],
   "source": [
    "# The type of 18 divided by 3 using a double forward slash is int.\n",
    "type(18 // 3)"
   ]
  },
  {
   "cell_type": "code",
   "execution_count": null,
   "metadata": {},
   "outputs": [
    {
     "data": {
      "text/plain": [
       "int"
      ]
     },
     "metadata": {},
     "output_type": "display_data"
    }
   ],
   "source": [
    "# This is an integer literal: 6\n",
    "type(6)"
   ]
  },
  {
   "cell_type": "code",
   "execution_count": null,
   "metadata": {},
   "outputs": [
    {
     "data": {
      "text/plain": [
       "float"
      ]
     },
     "metadata": {},
     "output_type": "display_data"
    }
   ],
   "source": [
    "# This is a float literal: 6.0\n",
    "type(6.0)"
   ]
  },
  {
   "cell_type": "code",
   "execution_count": null,
   "metadata": {},
   "outputs": [],
   "source": [
    "i = 6"
   ]
  },
  {
   "cell_type": "code",
   "execution_count": null,
   "metadata": {},
   "outputs": [
    {
     "data": {
      "text/plain": [
       "int"
      ]
     },
     "metadata": {},
     "output_type": "display_data"
    }
   ],
   "source": [
    "type(i)"
   ]
  },
  {
   "cell_type": "code",
   "execution_count": null,
   "metadata": {},
   "outputs": [],
   "source": [
    "i = 6.0"
   ]
  },
  {
   "cell_type": "code",
   "execution_count": null,
   "metadata": {},
   "outputs": [
    {
     "data": {
      "text/plain": [
       "float"
      ]
     },
     "metadata": {},
     "output_type": "display_data"
    }
   ],
   "source": [
    "type(i)"
   ]
  },
  {
   "cell_type": "markdown",
   "metadata": {},
   "source": [
    "## Types Elsewhere\n",
    "\n",
    "***\n",
    "\n",
    "**Types of Variable - Understanding the different types of variable in statistics**\n",
    "\n",
    "Laerd Statistics\n",
    "\n",
    "https://statistics.laerd.com/statistical-guides/types-of-variable.php\n",
    "\n",
    "***\n",
    "\n",
    "**Excel drops off values after saving the file**\n",
    "\n",
    "Super User, Stack Exchange\n",
    "\n",
    "https://superuser.com/questions/1703027/excel-drops-off-values-after-saving-the-file\n",
    "\n",
    "***\n",
    "\n",
    "**Level of measurement**\n",
    "\n",
    "Wikipedia\n",
    "\n",
    "\n",
    "https://en.wikipedia.org/wiki/Level_of_measurement\n",
    "\n",
    "***\n",
    "\n",
    "**On the Theory of Scales of Measurement**\n",
    "\n",
    "S. S. Stevens\n",
    "\n",
    "Science, New Series, Vol. 103, No. 2684 (Jun. 7, 1946), pp. 677-680\n",
    "\n",
    "https://web.archive.org/web/20111125054925/http://www.academic.cmru.ac.th/phraisin/au/prasit/stevens/Stevens_Measurement.pdf\n",
    "\n",
    "***"
   ]
  },
  {
   "cell_type": "markdown",
   "metadata": {},
   "source": [
    "## Types in Mathematics"
   ]
  },
  {
   "cell_type": "markdown",
   "metadata": {},
   "source": [
    "**Complex Numbers**\n",
    "\n",
    "$\\mathbb{C} = \\{a + bi | a, b \\in \\mathbb{R}, i^2 = -1\\}$"
   ]
  },
  {
   "cell_type": "markdown",
   "metadata": {},
   "source": [
    "**Reals**\n",
    "\n",
    "$ \\mathbb{R} $\n",
    "\n",
    "![Real Number Line](https://upload.wikimedia.org/wikipedia/commons/thumb/d/d7/Real_number_line.svg/689px-Real_number_line.svg.png)"
   ]
  },
  {
   "cell_type": "markdown",
   "metadata": {},
   "source": [
    "*A Problem with Using the Reals to Count*\n",
    "\n",
    "$x = 0.999\\dots$\n",
    "\n",
    "$\\Rightarrow 10x = 9.99\\dots$\n",
    "\n",
    "$\\Rightarrow 10x - x = 9.999\\ldots - 0.999\\dots$\n",
    "\n",
    "$\\Rightarrow 9x = 9.000\\ldots$\n",
    "\n",
    "$\\Rightarrow x = 1.000\\ldots$\n",
    "\n",
    "$\\Rightarrow x = 1$"
   ]
  },
  {
   "cell_type": "markdown",
   "metadata": {},
   "source": [
    "![Guinea Pig Half Off - Jeff Mumm](img/guinea_pig.png)"
   ]
  },
  {
   "cell_type": "markdown",
   "metadata": {},
   "source": [
    "**Rationals**\n",
    "\n",
    "$\\mathbb{Q} = \\{ \\frac{m}{n} | m,n \\in \\mathbb{N}_0, n \\neq 0 \\}$"
   ]
  },
  {
   "cell_type": "markdown",
   "metadata": {},
   "source": [
    "**Integers**\n",
    "\n",
    "$\\mathbb{Z} = \\{ \\ldots, -3, -2, -1, 0, 1, 2, 3, \\ldots \\}$"
   ]
  },
  {
   "cell_type": "markdown",
   "metadata": {},
   "source": [
    "**Naturals**\n",
    "\n",
    "$\\mathbb{N} = \\{1, 2, 3, \\ldots\\}$\n",
    "\n",
    "$\\mathbb{N}_0 = \\{0, 1, 2, 3, \\ldots\\}$"
   ]
  },
  {
   "cell_type": "markdown",
   "metadata": {},
   "source": [
    "*An Interesting Fact About the Natural Numbers*\n",
    "\n",
    "$\\mathbb{N} = \\{1, 2, 3, \\ldots\\}$\n",
    "\n",
    "$2\\mathbb{N} = \\{2, 4, 6, \\ldots\\}$\n",
    "\n",
    "Consider the *correspondence* between $\\mathbb{N}$ on the top line and $2\\mathbb{N}$ on the bottom line where:\n",
    "\n",
    "$f:\\mathbb{N} \\leftrightarrow 2 \\mathbb{N}: n \\leftrightarrow 2n$.\n",
    "\n",
    "Each thing in $\\mathbb{N}$ corresponds to something in $2\\mathbb{N}$, and vice versa.\n",
    "\n",
    "Also, there is no overlap: the correspondence in both directions is unique.\n",
    "\n",
    "On the one hand, $2\\mathbb{N} \\subset \\mathbb{N}$.\n",
    "\n",
    "On the other hand, $2\\mathbb{N}$ and $\\mathbb{N}$ must have the same size.\n",
    "\n",
    "We counted the elements of $2\\mathbb{N}$ using the elements of $\\mathbb{N}$."
   ]
  },
  {
   "cell_type": "markdown",
   "metadata": {},
   "source": [
    "***\n",
    "\n",
    "## End"
   ]
  }
 ],
 "metadata": {
  "language_info": {
   "name": "python"
  }
 },
 "nbformat": 4,
 "nbformat_minor": 2
}
